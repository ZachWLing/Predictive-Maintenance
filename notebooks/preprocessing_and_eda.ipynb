{
 "cells": [
  {
   "cell_type": "markdown",
   "id": "4db015a9",
   "metadata": {},
   "source": [
    "# 1. Import Packages"
   ]
  },
  {
   "cell_type": "code",
   "execution_count": null,
   "id": "7553baf4",
   "metadata": {},
   "outputs": [],
   "source": [
    "import os\n",
    "import numpy as np\n",
    "import pandas as pd\n",
    "import librosa as lr\n",
    "import pickle as pkl\n",
    "import seaborn as sns\n",
    "import librosa.display\n",
    "import matplotlib.pyplot as plt\n",
    "import IPython.display as ipd\n",
    "\n",
    "from glob import glob\n",
    "from IPython.display import HTML\n",
    "from sklearn.model_selection import train_test_split"
   ]
  },
  {
   "cell_type": "code",
   "execution_count": null,
   "id": "ab6cc7f1",
   "metadata": {},
   "outputs": [],
   "source": [
    "# Creates a button to toggle on/off the raw code\n",
    "\n",
    "HTML('''<script>\n",
    "code_show=true; \n",
    "function code_toggle() {\n",
    " if (code_show){\n",
    " $('div.input').hide();\n",
    " } else {\n",
    " $('div.input').show();\n",
    " }\n",
    " code_show = !code_show\n",
    "} \n",
    "$( document ).ready(code_toggle);\n",
    "</script>\n",
    "<form action=\"javascript:code_toggle()\"><input type=\"submit\" value=\"Click here to toggle on/off the raw code.\"></form>''')"
   ]
  },
  {
   "cell_type": "markdown",
   "id": "77623097",
   "metadata": {},
   "source": [
    "# 2. Load in Raw .wav Files\n",
    "\n",
    "The dataset consists of normal and abnormal sound files across 4 different types of pumps"
   ]
  },
  {
   "cell_type": "code",
   "execution_count": null,
   "id": "cb822c02",
   "metadata": {},
   "outputs": [],
   "source": [
    "# Explores the breakdown of the normal vs. abnormal records across the different types of pumps\n",
    "\n",
    "pump_classes = pd.DataFrame(columns = ['id', 'normal', 'abnormal', 'percent_abnormal'])\n",
    "for pump_id in list(glob('../data/pump/*')):\n",
    "    temp_id = pump_id.split(\"\\\\\")\n",
    "    temp_normal = len(glob(temp_id[0] + '/' + temp_id[1] + '/normal/*.wav'))\n",
    "    temp_abnormal = len(glob(temp_id[0] + '/' + temp_id[1] + '/abnormal/*.wav'))\n",
    "    percent_abnormal = round(temp_abnormal / (temp_normal + temp_abnormal), 2)\n",
    "    temp_data = pd.DataFrame(data = {'id': [temp_id[1]], 'normal': [temp_normal], \n",
    "                                     'abnormal': [temp_abnormal],'percent_abnormal': percent_abnormal})\n",
    "    pump_classes =  pd.concat([pump_classes, temp_data], axis = 0)\n",
    "    \n",
    "totals = sum(pump_classes['normal'] + pump_classes['normal'])\n",
    "pump_classes['percent_total'] = (pump_classes['normal'] + pump_classes['abnormal']) / totals\n",
    "pump_classes"
   ]
  },
  {
   "cell_type": "code",
   "execution_count": null,
   "id": "1dc7349b",
   "metadata": {},
   "outputs": [],
   "source": [
    "def get_data_files(directory, class_type):\n",
    "    \"\"\"\n",
    "    Retrieves the files and pump ids of a given class type in a specified directory\n",
    "    \n",
    "    Parameters\n",
    "    ----------\n",
    "    directory: string\n",
    "        the directory in which all of the child files will be returned\n",
    "    class_type: string\n",
    "        the specified class to be retrieved-- normal or abnormal\n",
    "    \n",
    "    Returns\n",
    "    -------\n",
    "    2 numpy arrays of the paths of the audio files and their corresponding pump ids\n",
    "    \"\"\"\n",
    "    ids = []\n",
    "    files = []\n",
    "    for pump_id in list(glob(directory)):\n",
    "        temp_id = pump_id.split(\"\\\\\")\n",
    "        temp_normal = glob(temp_id[0] + '/' + temp_id[1] + '/' + class_type + '/*.wav')\n",
    "        ids = ids + ([temp_id[1]] * len(temp_normal))\n",
    "        files = files + temp_normal\n",
    "    return np.array(ids), np.array(files)"
   ]
  },
  {
   "cell_type": "code",
   "execution_count": null,
   "id": "955ade1b",
   "metadata": {},
   "outputs": [],
   "source": [
    "# Grabs all of the file paths for normal and abnormal pumps in the parent directory\n",
    "\n",
    "normal_ids, normal_files = get_data_files('../data/pump/*', 'normal')\n",
    "abnormal_ids, abnormal_files = get_data_files('../data/pump/*', 'abnormal')"
   ]
  },
  {
   "cell_type": "code",
   "execution_count": null,
   "id": "7fe739c1",
   "metadata": {},
   "outputs": [],
   "source": [
    "# Breaks down files by pump type\n",
    "\n",
    "normal_00 = normal_files[normal_ids == 'id_00']\n",
    "normal_02 = normal_files[normal_ids == 'id_02']\n",
    "normal_04 = normal_files[normal_ids == 'id_04']\n",
    "normal_06 = normal_files[normal_ids == 'id_06']\n",
    "\n",
    "abnormal_00 = abnormal_files[abnormal_ids == 'id_00']\n",
    "abnormal_02 = abnormal_files[abnormal_ids == 'id_02']\n",
    "abnormal_04 = abnormal_files[abnormal_ids == 'id_04']\n",
    "abnormal_06 = abnormal_files[abnormal_ids == 'id_06']"
   ]
  },
  {
   "cell_type": "markdown",
   "id": "b86bbaa9",
   "metadata": {},
   "source": [
    "### Pump 00 Normal vs Abnormal"
   ]
  },
  {
   "cell_type": "code",
   "execution_count": null,
   "id": "27e4628d",
   "metadata": {},
   "outputs": [],
   "source": [
    "ipd.Audio(normal_00[0])"
   ]
  },
  {
   "cell_type": "code",
   "execution_count": null,
   "id": "e22a1d71",
   "metadata": {},
   "outputs": [],
   "source": [
    "ipd.Audio(abnormal_00[0])"
   ]
  },
  {
   "cell_type": "markdown",
   "id": "b354081f",
   "metadata": {},
   "source": [
    "### Pump 02 Normal vs Abnormal"
   ]
  },
  {
   "cell_type": "code",
   "execution_count": null,
   "id": "fa1d2aab",
   "metadata": {},
   "outputs": [],
   "source": [
    "ipd.Audio(normal_02[0])"
   ]
  },
  {
   "cell_type": "code",
   "execution_count": null,
   "id": "19ed0564",
   "metadata": {},
   "outputs": [],
   "source": [
    "ipd.Audio(abnormal_02[0])"
   ]
  },
  {
   "cell_type": "markdown",
   "id": "80fc506f",
   "metadata": {},
   "source": [
    "### Pump 04 Normal vs Abnormal"
   ]
  },
  {
   "cell_type": "code",
   "execution_count": null,
   "id": "7190acc8",
   "metadata": {},
   "outputs": [],
   "source": [
    "ipd.Audio(normal_04[0])"
   ]
  },
  {
   "cell_type": "code",
   "execution_count": null,
   "id": "2ace0cf4",
   "metadata": {},
   "outputs": [],
   "source": [
    "ipd.Audio(abnormal_04[0])"
   ]
  },
  {
   "cell_type": "markdown",
   "id": "c0918ede",
   "metadata": {},
   "source": [
    "### Pump 06 Normal vs Abnormal"
   ]
  },
  {
   "cell_type": "code",
   "execution_count": null,
   "id": "e1928b60",
   "metadata": {},
   "outputs": [],
   "source": [
    "ipd.Audio(normal_06[0])"
   ]
  },
  {
   "cell_type": "code",
   "execution_count": null,
   "id": "fee50bfc",
   "metadata": {},
   "outputs": [],
   "source": [
    "ipd.Audio(abnormal_06[0])"
   ]
  },
  {
   "cell_type": "markdown",
   "id": "5c8a2fe9",
   "metadata": {},
   "source": [
    "# 3. Loading Audio Files to Amplitude Arrays\n",
    "Each .wav file is converted in to an array that represents amplitdue of each recorded sample\n",
    "\n",
    "**Amplitdue**: change of air pressure in the audio\n",
    "\n",
    "**Sample Rate**: how many audio samples are recorded per second"
   ]
  },
  {
   "cell_type": "code",
   "execution_count": null,
   "id": "1adfb318",
   "metadata": {},
   "outputs": [],
   "source": [
    "def load_audio_files(files, sr = 22050):\n",
    "    \"\"\"\n",
    "    Uses librosa's load method to convert each file to an array of amplitudes\n",
    "    \n",
    "    Parameters\n",
    "    ----------\n",
    "    files: list\n",
    "        a list of audio file paths to be converted\n",
    "    \n",
    "    Returns\n",
    "    -------\n",
    "    2 lists of the converted amplitude arrays and their corresponding sample rates\n",
    "    \"\"\"\n",
    "    audio_list = []\n",
    "    sr_list = []\n",
    "    for file in files:\n",
    "        temp_audio, temp_sample_rate = lr.load(file)\n",
    "        audio_list.append(temp_audio)\n",
    "        sr_list.append(temp_sample_rate)\n",
    "    return audio_list, sr_list"
   ]
  },
  {
   "cell_type": "code",
   "execution_count": null,
   "id": "e6e1e91e",
   "metadata": {},
   "outputs": [],
   "source": [
    "# Converts all of the .wav files that were loaded in step 2\n",
    "\n",
    "normal_audio, normal_sr = load_audio_files(normal_files)\n",
    "normal_audio = np.array(normal_audio)\n",
    "normal_sr = np.array(normal_sr)\n",
    "print('Normal Audio Processed!')\n",
    "abnormal_audio, abnormal_sr = load_audio_files(abnormal_files)\n",
    "abnormal_audio = np.array(abnormal_audio)\n",
    "abnormal_sr = np.array(abnormal_sr)\n",
    "print('Abnormal Audio Processed!')"
   ]
  },
  {
   "cell_type": "code",
   "execution_count": null,
   "id": "a5962fc6",
   "metadata": {},
   "outputs": [],
   "source": [
    "def get_audio_sr(audio_array, sr_array, audio_ids, class_type):\n",
    "    \"\"\"\n",
    "    Returns the amplitude arrays and sample rates for a given pump id\n",
    "    \n",
    "    Parameters\n",
    "    ----------\n",
    "    audio_array: list\n",
    "        list of amplitude arrays to be searched\n",
    "    sr_array: list\n",
    "        list of sample rate arrays to be searched\n",
    "    audio_ids: list\n",
    "        list of pump ids for each corresponding audio arrays \n",
    "    class_type: string\n",
    "        pump id to be returned\n",
    "    \n",
    "    Returns\n",
    "    -------\n",
    "    The amplitude and sample rate arrays for the specified class type\n",
    "    \"\"\"\n",
    "    audio = audio_array[audio_ids == class_type]\n",
    "    sr = sr_array[audio_ids == class_type]\n",
    "    return audio, sr"
   ]
  },
  {
   "cell_type": "code",
   "execution_count": null,
   "id": "0f748f5e",
   "metadata": {},
   "outputs": [],
   "source": [
    "# Segmenting normal audio data by pump ids\n",
    "\n",
    "normal_00_audio, normal_00_sr = get_audio_sr(normal_audio, normal_sr, normal_ids, 'id_00')\n",
    "normal_02_audio, normal_02_sr = get_audio_sr(normal_audio, normal_sr, normal_ids, 'id_02')\n",
    "normal_04_audio, normal_04_sr = get_audio_sr(normal_audio, normal_sr, normal_ids, 'id_04')\n",
    "normal_06_audio, normal_06_sr = get_audio_sr(normal_audio, normal_sr, normal_ids, 'id_06')"
   ]
  },
  {
   "cell_type": "code",
   "execution_count": null,
   "id": "e3940a74",
   "metadata": {},
   "outputs": [],
   "source": [
    "# Segmenting abornal audio data by pump ids\n",
    "\n",
    "abnormal_00_audio, abnormal_00_sr = get_audio_sr(abnormal_audio, abnormal_sr, abnormal_ids, 'id_00')\n",
    "abnormal_02_audio, abnormal_02_sr = get_audio_sr(abnormal_audio, abnormal_sr, abnormal_ids, 'id_02')\n",
    "abnormal_04_audio, abnormal_04_sr = get_audio_sr(abnormal_audio, abnormal_sr, abnormal_ids, 'id_04')\n",
    "abnormal_06_audio, abnormal_06_sr = get_audio_sr(abnormal_audio, abnormal_sr, abnormal_ids, 'id_06')"
   ]
  },
  {
   "cell_type": "code",
   "execution_count": null,
   "id": "663b791b",
   "metadata": {},
   "outputs": [],
   "source": [
    "def plot_audio(normal_file, abnormal_file, axs):\n",
    "    \"\"\"\n",
    "    Plots a line graph for the 2nd amplitude array in nornam_file and abnormal_file\n",
    "    \n",
    "    Parameters\n",
    "    ----------\n",
    "    normal_file: np.array\n",
    "        array of normal amplitude arrays \n",
    "    abnormal_file: list\n",
    "        array of normal amplitude arrays\n",
    "    axs: plt.subplots axis object\n",
    "        pump id to be returned\n",
    "    \n",
    "    Returns\n",
    "    -------\n",
    "    The amplitude and sample rate arrays for the specified class type\n",
    "    \"\"\"\n",
    "    axs.set_ylabel('Amplitude')\n",
    "    axs.set_xlabel('Sample Number')\n",
    "    axs.plot(pd.Series(normal_file[0]), color = 'blue', alpha = 0.2, label = 'Normal')\n",
    "    axs.plot(pd.Series(abnormal_file[0]), color = 'red', alpha = 0.2, label = 'Abnormal')\n",
    "    leg = axs.legend(loc = 'upper right')"
   ]
  },
  {
   "cell_type": "code",
   "execution_count": null,
   "id": "4eb89e78",
   "metadata": {},
   "outputs": [],
   "source": [
    "# Overlays normal vs abnormal pump audio for each pump id \n",
    "\n",
    "figure, axes = plt.subplots(2, 2, figsize = (15, 8))\n",
    "figure.suptitle('Normal vs. Abnormal Amplitude Comparisons')\n",
    "\n",
    "axes[0,0].set_title('Pump 00 - Normal vs. Abnormal')\n",
    "plot_audio(normal_00_audio, abnormal_00_audio, axes[0,0])\n",
    "\n",
    "axes[0,1].set_title('Pump 02 - Normal vs. Abnormal')\n",
    "plot_audio(normal_02_audio, abnormal_02_audio, axes[0,1])\n",
    "\n",
    "axes[1,0].set_title('Pump 04 - Normal vs. Abnormal')\n",
    "plot_audio(normal_04_audio, abnormal_04_audio, axes[1,0])\n",
    "\n",
    "axes[1,1].set_title('Pump 06 - Normal vs. Abnormal')\n",
    "plot_audio(normal_06_audio, abnormal_06_audio, axes[1,1])\n",
    "\n",
    "figure.tight_layout(h_pad = 2)\n",
    "\n",
    "plt.show()"
   ]
  },
  {
   "cell_type": "code",
   "execution_count": null,
   "id": "5d3d1e13",
   "metadata": {},
   "outputs": [],
   "source": [
    "# def trim_auido(audio_files):\n",
    "#     final_audio = []\n",
    "#     final_indices = []\n",
    "#     for file in audio_files:\n",
    "#         audio_trim, indices = lr.effects.trim(np.array(audio))\n",
    "#         final_audio = final_audio.append(audio_trim)\n",
    "#         final_indices = final_indices.append(indices)\n",
    "#     return final_audio, final_indices"
   ]
  },
  {
   "cell_type": "code",
   "execution_count": null,
   "id": "8b033ca7",
   "metadata": {},
   "outputs": [],
   "source": [
    "# audio_trim, indices = trim_auido(audio)"
   ]
  },
  {
   "cell_type": "markdown",
   "id": "b1a300c5",
   "metadata": {},
   "source": [
    "# 4. Converting Audio Files to Spectrograms and Mel Spectrograms\n",
    "\n",
    "The sound pressure (amplitude) is extremely large: 20 μPa (micro Pascal) to 20 Pa, a ratio of 1 million.\n",
    "\n",
    "By converting to decibels (dB) it puts the data on a logarithmic scale. This range is around 0-120 dB. \n",
    "\n",
    "dB's are a relative measurement so the 0 dB is specified user. The default for librosa.amplitude_to_db is to compute numpy.max, meaning that the max value of the input will be mapped to 0 dB. All other values will then be negative.\n",
    "\n",
    "By coverting the raw audio files to spectrogram, we can capture time, frequencies, and amplitudes all at once.\n",
    "\n",
    "![Alt text](https://tse4.mm.bing.net/th/id/OIP.M4sFvKW0JdmhHWbSBUy_zQAAAA?pid=ImgDet&rs=1)"
   ]
  },
  {
   "cell_type": "markdown",
   "id": "45abd0f1",
   "metadata": {},
   "source": [
    "frequency is each row of the matrix, the values is decibels, the length of each row represents time"
   ]
  },
  {
   "cell_type": "code",
   "execution_count": null,
   "id": "e2560f5d",
   "metadata": {},
   "outputs": [],
   "source": [
    "# def convert_to_spectrogram(audio_files):\n",
    "#     \"\"\"\n",
    "#     Performs Short-Time Fourier Transformations on each amplitude array to break down the audio into raw frequencies.\n",
    "#     This will then be used to convert to decibels.\n",
    "    \n",
    "#     Parameters\n",
    "#     ----------\n",
    "#     audio_files: np.array\n",
    "#         array of amplitude arrays \n",
    "    \n",
    "#     Returns\n",
    "#     -------\n",
    "#     An arrary of \n",
    "#     \"\"\"\n",
    "#     audio_stft = lr.stft(audio_files)\n",
    "#     audio_dbd = lr.amplitude_to_db(abs(audio_stft), ref = np.max)\n",
    "#     return audio_dbd"
   ]
  },
  {
   "cell_type": "code",
   "execution_count": null,
   "id": "43617630",
   "metadata": {},
   "outputs": [],
   "source": [
    "# audio_dbd = convert_to_spectrogram(normal_audio[0])\n",
    "# shape_0 = audio_dbd.shape[0]\n",
    "# shape_1 = audio_dbd.shape[1]\n",
    "# audio_dbd = np.reshape(audio_dbd, [1, shape_0, shape_1])\n",
    "# for file in normal_audio[1:]:\n",
    "#     audio_dbd = np.vstack([audio_dbd, np.reshape(convert_to_spectrogram(file), [1, shape_0, shape_1])])"
   ]
  },
  {
   "cell_type": "code",
   "execution_count": null,
   "id": "2ff82a7e",
   "metadata": {},
   "outputs": [],
   "source": [
    "def convert_to_melspectrogram(audio_files, sr, n_fft, hop_length, n_mels):\n",
    "    \"\"\"\n",
    "    Plots a line graph for the 2nd amplitude array in nornam_file and abnormal_file\n",
    "    \n",
    "    Parameters\n",
    "    ----------\n",
    "    normal_file: np.array\n",
    "        list of normal amplitude arrays \n",
    "    abnormal_file: list\n",
    "        list of normal amplitude arrays\n",
    "    axs: plt.subplots axis object\n",
    "        pump id to be returned\n",
    "    \n",
    "    Returns\n",
    "    -------\n",
    "    The amplitude and sample rate arrays for the specified class type\n",
    "    \"\"\"\n",
    "    audio_mel = lr.feature.melspectrogram(y = audio_files[0], sr = sr, n_fft = n_fft, hop_length = hop_length, n_mels = n_mels)\n",
    "    audio_mel_dbd = lr.amplitude_to_db(abs(audio_mel), ref = np.max)\n",
    "    shape_0 = audio_mel_dbd.shape[0]\n",
    "    shape_1 = audio_mel_dbd.shape[1]\n",
    "    audio_mel_dbd = np.reshape(audio_mel_dbd, [1, shape_0, shape_1])\n",
    "    \n",
    "    for file in audio_files[1:]:\n",
    "        audio_mel_temp = lr.feature.melspectrogram(y = file, sr = sr, n_fft = n_fft, hop_length = hop_length, n_mels = n_mels)\n",
    "        audio_mel_dbd_temp = lr.amplitude_to_db(abs(audio_mel_temp), ref = np.max)\n",
    "        audio_mel_dbd = np.vstack([audio_mel_dbd, np.reshape(audio_mel_dbd_temp, [1, shape_0, shape_1])])        \n",
    "    return audio_mel_dbd"
   ]
  },
  {
   "cell_type": "code",
   "execution_count": null,
   "id": "5a8b93a3",
   "metadata": {},
   "outputs": [],
   "source": [
    "audio_mel_dbd_n00 = convert_to_melspectrogram(normal_00_audio, normal_sr[0], 1024, 512, 64)\n",
    "print('Normal Pump 00 Audio Converted!')\n",
    "audio_mel_dbd_n02 = convert_to_melspectrogram(normal_02_audio, normal_sr[0], 1024, 512, 64)\n",
    "print('Normal Pump 02 Audio Converted!')\n",
    "audio_mel_dbd_n04 = convert_to_melspectrogram(normal_04_audio, normal_sr[0], 1024, 512, 64)\n",
    "print('Normal Pump 04 Audio Converted!')\n",
    "audio_mel_dbd_n06 = convert_to_melspectrogram(normal_06_audio, normal_sr[0], 1024, 512, 64)\n",
    "print('Normal Pump 06 Audio Converted!')"
   ]
  },
  {
   "cell_type": "code",
   "execution_count": null,
   "id": "07c68814",
   "metadata": {},
   "outputs": [],
   "source": [
    "audio_mel_dbd_a00 = convert_to_melspectrogram(abnormal_00_audio, abnormal_sr[0], 1024, 512, 64)\n",
    "print('Abnormal Pump 00 Audio Converted!')\n",
    "audio_mel_dbd_a02 = convert_to_melspectrogram(abnormal_02_audio, abnormal_sr[0], 1024, 512, 64)\n",
    "print('Abnormal Pump 02 Audio Converted!')\n",
    "audio_mel_dbd_a04 = convert_to_melspectrogram(abnormal_04_audio, abnormal_sr[0], 1024, 512, 64)\n",
    "print('Abnormal Pump 04 Audio Converted!')\n",
    "audio_mel_dbd_a06 = convert_to_melspectrogram(abnormal_06_audio, abnormal_sr[0], 1024, 512, 64)\n",
    "print('Abnormal Pump 06 Audio Converted!')"
   ]
  },
  {
   "cell_type": "code",
   "execution_count": null,
   "id": "691a0d13",
   "metadata": {},
   "outputs": [],
   "source": [
    "def plot_mel_spectrogram(file , axs, class_label):\n",
    "    axs.set(title = class_label + ' Mel Spectrogram')\n",
    "    axs.label_outer()\n",
    "    lr.display.specshow(file, x_axis = 'time', y_axis = 'log', ax = axs)"
   ]
  },
  {
   "cell_type": "markdown",
   "id": "b73fc102",
   "metadata": {},
   "source": [
    "### Frequency Over Time: 1st Sound Sample"
   ]
  },
  {
   "cell_type": "code",
   "execution_count": null,
   "id": "a8c84398",
   "metadata": {},
   "outputs": [],
   "source": [
    "figure, axes = plt.subplots(4, 2, figsize=(20, 15))\n",
    "\n",
    "plot_mel_spectrogram(audio_mel_dbd_n00[0], axes[0,0], 'Normal Pump 00:')\n",
    "plot_mel_spectrogram(audio_mel_dbd_n02[0], axes[1,0], 'Normal Pump 02:')\n",
    "plot_mel_spectrogram(audio_mel_dbd_n04[0], axes[2,0], 'Normal Pump 04:')\n",
    "plot_mel_spectrogram(audio_mel_dbd_n06[0], axes[3,0], 'Normal Pump 06:')\n",
    "\n",
    "plot_mel_spectrogram(audio_mel_dbd_a00[0], axes[0,1], 'Abnormal Pump 00:')\n",
    "plot_mel_spectrogram(audio_mel_dbd_a02[0], axes[1,1], 'Abnormal Pump 02:')\n",
    "plot_mel_spectrogram(audio_mel_dbd_a04[0], axes[2,1], 'Abnormal Pump 04:')\n",
    "plot_mel_spectrogram(audio_mel_dbd_a06[0], axes[3,1], 'Abnormal Pump 06:')\n",
    "\n",
    "img = lr.display.specshow(audio_mel_dbd_n00[0], x_axis = 'time', y_axis = 'log', ax = axes[0, 0])\n",
    "figure.tight_layout(h_pad = 2)\n",
    "figure.colorbar(img, ax = axes, format = \"%+2.f dB\")\n",
    "\n",
    "plt.show()"
   ]
  },
  {
   "cell_type": "markdown",
   "id": "f748ce7b",
   "metadata": {},
   "source": [
    "### Average Frequency Over Time"
   ]
  },
  {
   "cell_type": "code",
   "execution_count": null,
   "id": "3f800a1f",
   "metadata": {},
   "outputs": [],
   "source": [
    "figure, axes = plt.subplots(4, 2, figsize=(20, 15))\n",
    "\n",
    "plot_mel_spectrogram(np.mean(audio_mel_dbd_n00, axis = 0), axes[0,0], 'Normal Pump 00:')\n",
    "plot_mel_spectrogram(np.mean(audio_mel_dbd_n02, axis = 0), axes[1,0], 'Normal Pump 02:')\n",
    "plot_mel_spectrogram(np.mean(audio_mel_dbd_n04, axis = 0), axes[2,0], 'Normal Pump 04:')\n",
    "plot_mel_spectrogram(np.mean(audio_mel_dbd_n06, axis = 0), axes[3,0], 'Normal Pump 06:')\n",
    "\n",
    "plot_mel_spectrogram(np.mean(audio_mel_dbd_a00, axis = 0), axes[0,1], 'Abnormal Pump 00:')\n",
    "plot_mel_spectrogram(np.mean(audio_mel_dbd_a02, axis = 0), axes[1,1], 'Abnormal Pump 02:')\n",
    "plot_mel_spectrogram(np.mean(audio_mel_dbd_a04, axis = 0), axes[2,1], 'Abnormal Pump 04:')\n",
    "plot_mel_spectrogram(np.mean(audio_mel_dbd_a06, axis = 0), axes[3,1], 'Abnormal Pump 06:')\n",
    "\n",
    "img = lr.display.specshow(audio_mel_dbd_n00[0], x_axis = 'time', y_axis = 'log', ax = axes[0, 0])\n",
    "figure.tight_layout(h_pad = 2)\n",
    "figure.colorbar(img, ax = axes, format=\"%+2.f dB\")\n",
    "\n",
    "plt.show()"
   ]
  },
  {
   "cell_type": "markdown",
   "id": "558594b3",
   "metadata": {},
   "source": [
    "# 5. Split and Export Data"
   ]
  },
  {
   "cell_type": "code",
   "execution_count": null,
   "id": "58dd5466",
   "metadata": {},
   "outputs": [],
   "source": [
    "def export_pkl(file, name):\n",
    "    with open('../data/' + name + '.pkl', 'wb') as f:\n",
    "        pkl.dump(file, f) "
   ]
  },
  {
   "cell_type": "code",
   "execution_count": null,
   "id": "e3802d9a",
   "metadata": {},
   "outputs": [],
   "source": [
    "def train_test_export(normal_X, abnormal_X, name):\n",
    "    normal_y = np.zeros(normal_X.shape[0])\n",
    "    abnormal_y = np.ones(abnormal_X.shape[0])\n",
    "    \n",
    "    X_train, X_test, y_train, y_test = train_test_split(normal_X, normal_y, test_size = 0.2, random_state = 42)\n",
    "    X_test = np.vstack([X_test, abnormal_X])\n",
    "    y_test = np.concatenate([y_test, abnormal_y])\n",
    "    \n",
    "    export_pkl({'X_train': X_train, 'y_train': y_train, 'X_test': X_test, 'y_test': y_test}, name)\n",
    "\n",
    "    return X_train, X_test, y_train, y_test"
   ]
  },
  {
   "cell_type": "code",
   "execution_count": null,
   "id": "58fd07b3",
   "metadata": {},
   "outputs": [],
   "source": [
    "X_train_00, X_test_00, y_train_00, y_test_00 = train_test_export(audio_mel_dbd_n00, audio_mel_dbd_a00, 'id_00')\n",
    "X_train_02, X_test_02, y_train_02, y_test_02 = train_test_export(audio_mel_dbd_n02, audio_mel_dbd_a02, 'id_02')\n",
    "X_train_04, X_test_04, y_train_04, y_test_04 = train_test_export(audio_mel_dbd_n04, audio_mel_dbd_a04, 'id_04')\n",
    "X_train_06, X_test_06, y_train_06, y_test_06 = train_test_export(audio_mel_dbd_n06, audio_mel_dbd_a06, 'id_06')"
   ]
  },
  {
   "cell_type": "code",
   "execution_count": null,
   "id": "dc0c7408",
   "metadata": {},
   "outputs": [],
   "source": [
    "training_sets = pd.DataFrame(data = {'train': [X_train_00.shape[0], X_train_02.shape[0], X_train_04.shape[0], X_train_06.shape[0]],\n",
    "                                     'test': [X_test_00.shape[0], X_test_02.shape[0], X_test_04.shape[0], X_test_06.shape[0]],\n",
    "                                     'test_normal': [sum(y_test_00 == 0), sum(y_test_02 == 0), sum(y_test_04 == 0), sum(y_test_06 == 0)],\n",
    "                                     'test_abnormal': [sum(y_test_00 == 1), sum(y_test_02 == 1), sum(y_test_04 == 1), sum(y_test_06 == 1)]})\n",
    "training_sets['testp_normal'] = training_sets['test_normal'] / training_sets['test']\n",
    "training_sets['testp_abnormal'] = training_sets['test_abnormal'] / training_sets['test']\n",
    "training_sets"
   ]
  },
  {
   "cell_type": "code",
   "execution_count": null,
   "id": "6647873c",
   "metadata": {},
   "outputs": [],
   "source": []
  }
 ],
 "metadata": {
  "kernelspec": {
   "display_name": "Python 3 (ipykernel)",
   "language": "python",
   "name": "python3"
  },
  "language_info": {
   "codemirror_mode": {
    "name": "ipython",
    "version": 3
   },
   "file_extension": ".py",
   "mimetype": "text/x-python",
   "name": "python",
   "nbconvert_exporter": "python",
   "pygments_lexer": "ipython3",
   "version": "3.9.16"
  }
 },
 "nbformat": 4,
 "nbformat_minor": 5
}
